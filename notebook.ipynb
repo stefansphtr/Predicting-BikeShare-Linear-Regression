{
 "cells": [
  {
   "cell_type": "markdown",
   "metadata": {},
   "source": [
    "# Project Data Analytics: Predicting BikeShare Rentals: Seasonality & Weather (2011-2012)\n",
    "\n",
    "- Name: Stefanus Bernard Melkisedek\n",
    "- Email: stefanussipahutar@gmail.com\n",
    "- Id Dicoding: stefansphtr"
   ]
  },
  {
   "cell_type": "markdown",
   "metadata": {},
   "source": [
    "## Define Business Questions\n",
    "\n",
    "| **NO** | **BUSINESS QUESTION**                                                                                                                  |\n",
    "| :----: | -------------------------------------------------------------------------------------------------------------------------------------- |\n",
    "|   1.   | What is the impact of temperature on bike rentals?                              |\n",
    "|   2.   | In which specific seasons do we see the most significant shifts in rental volume? |\n",
    "|   3.   | Are there weekday-specific events that significantly affect rental volume in our area?                                                                                  |\n",
    "|   4.   | Beyond temperature, which specific weather conditions (e.g., rain, wind) have the most significant impact on rentals?                                                  |\n",
    "|   5.   | Based on historical data, can we develop a reliable model to predict daily/weekly bike rental demand?                                                     |"
   ]
  },
  {
   "cell_type": "markdown",
   "metadata": {},
   "source": [
    "## Prepare all the library needed"
   ]
  },
  {
   "cell_type": "code",
   "execution_count": null,
   "metadata": {},
   "outputs": [],
   "source": [
    "import pandas as pd\n",
    "import numpy as np\n",
    "import matplotlib.pyplot as plt\n",
    "import seaborn as sns\n",
    "from scipy import stats\n",
    "import statsmodels.api as sm\n",
    "from module.plot_missing_value import percentage as pmv"
   ]
  }
 ],
 "metadata": {
  "kernelspec": {
   "display_name": "Python 3",
   "language": "python",
   "name": "python3"
  },
  "language_info": {
   "codemirror_mode": {
    "name": "ipython",
    "version": 3
   },
   "file_extension": ".py",
   "mimetype": "text/x-python",
   "name": "python",
   "nbconvert_exporter": "python",
   "pygments_lexer": "ipython3",
   "version": "3.11.8"
  }
 },
 "nbformat": 4,
 "nbformat_minor": 2
}
